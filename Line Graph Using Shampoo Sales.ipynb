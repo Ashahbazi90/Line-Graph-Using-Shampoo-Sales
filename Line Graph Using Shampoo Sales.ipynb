{
 "cells": [
  {
   "cell_type": "code",
   "execution_count": 1,
   "id": "705f8a86-53d5-42ba-a184-d1821388a8ab",
   "metadata": {},
   "outputs": [],
   "source": [
    "import numpy as np\n",
    "import pandas as pd\n",
    "import matplotlib as mpl\n",
    "import matplotlib.pyplot as plt\n",
    "import seaborn as sns"
   ]
  },
  {
   "cell_type": "code",
   "execution_count": 2,
   "id": "8d8f4c66-01c5-44e6-82e6-85c91aea627a",
   "metadata": {},
   "outputs": [
    {
     "data": {
      "text/html": [
       "<div>\n",
       "<style scoped>\n",
       "    .dataframe tbody tr th:only-of-type {\n",
       "        vertical-align: middle;\n",
       "    }\n",
       "\n",
       "    .dataframe tbody tr th {\n",
       "        vertical-align: top;\n",
       "    }\n",
       "\n",
       "    .dataframe thead th {\n",
       "        text-align: right;\n",
       "    }\n",
       "</style>\n",
       "<table border=\"1\" class=\"dataframe\">\n",
       "  <thead>\n",
       "    <tr style=\"text-align: right;\">\n",
       "      <th></th>\n",
       "      <th>Month</th>\n",
       "      <th>1995</th>\n",
       "      <th>1996</th>\n",
       "      <th>1997</th>\n",
       "    </tr>\n",
       "  </thead>\n",
       "  <tbody>\n",
       "    <tr>\n",
       "      <th>0</th>\n",
       "      <td>January</td>\n",
       "      <td>266.0</td>\n",
       "      <td>194.3</td>\n",
       "      <td>339.7</td>\n",
       "    </tr>\n",
       "    <tr>\n",
       "      <th>1</th>\n",
       "      <td>February</td>\n",
       "      <td>145.9</td>\n",
       "      <td>149.5</td>\n",
       "      <td>440.4</td>\n",
       "    </tr>\n",
       "    <tr>\n",
       "      <th>2</th>\n",
       "      <td>March</td>\n",
       "      <td>183.1</td>\n",
       "      <td>210.1</td>\n",
       "      <td>315.9</td>\n",
       "    </tr>\n",
       "    <tr>\n",
       "      <th>3</th>\n",
       "      <td>April</td>\n",
       "      <td>119.3</td>\n",
       "      <td>273.3</td>\n",
       "      <td>439.3</td>\n",
       "    </tr>\n",
       "    <tr>\n",
       "      <th>4</th>\n",
       "      <td>May</td>\n",
       "      <td>180.3</td>\n",
       "      <td>191.4</td>\n",
       "      <td>401.3</td>\n",
       "    </tr>\n",
       "  </tbody>\n",
       "</table>\n",
       "</div>"
      ],
      "text/plain": [
       "      Month   1995   1996   1997\n",
       "0   January  266.0  194.3  339.7\n",
       "1  February  145.9  149.5  440.4\n",
       "2     March  183.1  210.1  315.9\n",
       "3     April  119.3  273.3  439.3\n",
       "4       May  180.3  191.4  401.3"
      ]
     },
     "execution_count": 2,
     "metadata": {},
     "output_type": "execute_result"
    }
   ],
   "source": [
    "df=pd.read_csv(\"ShampooSales.csv\")\n",
    "df.head()"
   ]
  },
  {
   "cell_type": "code",
   "execution_count": 3,
   "id": "46d1f247-fcee-49f1-9092-59f14a968a8d",
   "metadata": {},
   "outputs": [
    {
     "data": {
      "text/plain": [
       "Month     object\n",
       "1995     float64\n",
       "1996     float64\n",
       "1997     float64\n",
       "dtype: object"
      ]
     },
     "execution_count": 3,
     "metadata": {},
     "output_type": "execute_result"
    }
   ],
   "source": [
    "df.dtypes"
   ]
  },
  {
   "cell_type": "code",
   "execution_count": 4,
   "id": "f40059ae-55f2-48f0-ba48-de6cf9508ca5",
   "metadata": {},
   "outputs": [
    {
     "data": {
      "text/plain": [
       "Month    0\n",
       "1995     0\n",
       "1996     0\n",
       "1997     0\n",
       "dtype: int64"
      ]
     },
     "execution_count": 4,
     "metadata": {},
     "output_type": "execute_result"
    }
   ],
   "source": [
    "df.isnull().sum()"
   ]
  },
  {
   "cell_type": "code",
   "execution_count": 5,
   "id": "cf6570f5-7b88-49a5-93df-8e0b3bd82ac4",
   "metadata": {},
   "outputs": [
    {
     "data": {
      "text/plain": [
       "0"
      ]
     },
     "execution_count": 5,
     "metadata": {},
     "output_type": "execute_result"
    }
   ],
   "source": [
    "df.duplicated().sum()"
   ]
  },
  {
   "cell_type": "code",
   "execution_count": 6,
   "id": "e2b1ec5d-4fab-4e02-8789-3d8a0c3acd78",
   "metadata": {},
   "outputs": [
    {
     "name": "stdout",
     "output_type": "stream",
     "text": [
      "<class 'pandas.core.frame.DataFrame'>\n",
      "RangeIndex: 12 entries, 0 to 11\n",
      "Data columns (total 4 columns):\n",
      " #   Column  Non-Null Count  Dtype  \n",
      "---  ------  --------------  -----  \n",
      " 0   Month   12 non-null     object \n",
      " 1   1995    12 non-null     float64\n",
      " 2   1996    12 non-null     float64\n",
      " 3   1997    12 non-null     float64\n",
      "dtypes: float64(3), object(1)\n",
      "memory usage: 512.0+ bytes\n"
     ]
    }
   ],
   "source": [
    "df.info()"
   ]
  },
  {
   "cell_type": "code",
   "execution_count": 7,
   "id": "4cab9343-1ea1-4f6f-840c-5a1261658734",
   "metadata": {},
   "outputs": [
    {
     "data": {
      "text/html": [
       "<div>\n",
       "<style scoped>\n",
       "    .dataframe tbody tr th:only-of-type {\n",
       "        vertical-align: middle;\n",
       "    }\n",
       "\n",
       "    .dataframe tbody tr th {\n",
       "        vertical-align: top;\n",
       "    }\n",
       "\n",
       "    .dataframe thead th {\n",
       "        text-align: right;\n",
       "    }\n",
       "</style>\n",
       "<table border=\"1\" class=\"dataframe\">\n",
       "  <thead>\n",
       "    <tr style=\"text-align: right;\">\n",
       "      <th></th>\n",
       "      <th>1995</th>\n",
       "      <th>1996</th>\n",
       "      <th>1997</th>\n",
       "    </tr>\n",
       "  </thead>\n",
       "  <tbody>\n",
       "    <tr>\n",
       "      <th>count</th>\n",
       "      <td>12.00</td>\n",
       "      <td>12.00</td>\n",
       "      <td>12.00</td>\n",
       "    </tr>\n",
       "    <tr>\n",
       "      <th>mean</th>\n",
       "      <td>196.46</td>\n",
       "      <td>262.79</td>\n",
       "      <td>478.55</td>\n",
       "    </tr>\n",
       "    <tr>\n",
       "      <th>std</th>\n",
       "      <td>61.61</td>\n",
       "      <td>74.71</td>\n",
       "      <td>117.21</td>\n",
       "    </tr>\n",
       "    <tr>\n",
       "      <th>min</th>\n",
       "      <td>119.30</td>\n",
       "      <td>149.50</td>\n",
       "      <td>315.90</td>\n",
       "    </tr>\n",
       "    <tr>\n",
       "      <th>25%</th>\n",
       "      <td>162.85</td>\n",
       "      <td>206.15</td>\n",
       "      <td>406.02</td>\n",
       "    </tr>\n",
       "    <tr>\n",
       "      <th>50%</th>\n",
       "      <td>184.50</td>\n",
       "      <td>268.90</td>\n",
       "      <td>439.85</td>\n",
       "    </tr>\n",
       "    <tr>\n",
       "      <th>75%</th>\n",
       "      <td>226.32</td>\n",
       "      <td>293.32</td>\n",
       "      <td>576.95</td>\n",
       "    </tr>\n",
       "    <tr>\n",
       "      <th>max</th>\n",
       "      <td>336.50</td>\n",
       "      <td>421.60</td>\n",
       "      <td>682.00</td>\n",
       "    </tr>\n",
       "  </tbody>\n",
       "</table>\n",
       "</div>"
      ],
      "text/plain": [
       "         1995    1996    1997\n",
       "count   12.00   12.00   12.00\n",
       "mean   196.46  262.79  478.55\n",
       "std     61.61   74.71  117.21\n",
       "min    119.30  149.50  315.90\n",
       "25%    162.85  206.15  406.02\n",
       "50%    184.50  268.90  439.85\n",
       "75%    226.32  293.32  576.95\n",
       "max    336.50  421.60  682.00"
      ]
     },
     "execution_count": 7,
     "metadata": {},
     "output_type": "execute_result"
    }
   ],
   "source": [
    "round(df.describe(),2)"
   ]
  },
  {
   "cell_type": "markdown",
   "id": "9d59c408-6b24-45e7-9d53-c56e48eec9fc",
   "metadata": {},
   "source": [
    "### Part 1:Create a line graph using the ShampooSales.csv file. Create your “x” axis using “Month,” the “y” axis should be the sales, and then create a line for each year (1995, 1996, and 1997) to compare the sales per month by each year.  \n",
    "\n",
    "#### (Your line graph should have three different lines).\n",
    "#### Line graph customizations, at a minimum, must include:\n",
    "\n",
    "#### The main title\n",
    "#### Labeled “x” and “y” axes\n",
    "#### A legend\n"
   ]
  },
  {
   "cell_type": "code",
   "execution_count": 8,
   "id": "227444f2-ad37-4c22-9766-3718ee5ac7ad",
   "metadata": {},
   "outputs": [
    {
     "data": {
      "image/png": "[encoded data removed]",
      "text/plain": [
       "<Figure size 640x480 with 1 Axes>"
      ]
     },
     "metadata": {},
     "output_type": "display_data"
    }
   ],
   "source": [
    "#Set the 'Month' column as the index of the DataFrame:\n",
    "df.set_index('Month', inplace=True)\n",
    "\n",
    "df.plot.line(y=['1995', '1996', '1997'])\n",
    "plt.title('Sales per Month by Year')\n",
    "plt.xlabel('Month')\n",
    "plt.ylabel('Sales')\n",
    "plt.legend(['1995', '1996', '1997'])\n",
    "plt.show()"
   ]
  },
  {
   "cell_type": "markdown",
   "id": "15bd9ce1-d45b-4f9d-a5a8-2d16cba2153f",
   "metadata": {},
   "source": [
    "### Part 2:\n",
    "\n",
    "#### Interpret your line graph. Describe if you notice any patterns of cycles or any notable findings between the three years.To upload your assignment, click on the assignment title above."
   ]
  },
  {
   "cell_type": "markdown",
   "id": "1f02e309-34be-4aad-8bc3-9fd3cdd82652",
   "metadata": {},
   "source": [
    "### Analysis of the data reveals that in 1997, sales exhibited an upward trend that persisted until the end of the year. Notably, the highest sales figure of the year, amounting to 682.00, was recorded in September, while the lowest figure of $478.55 was observed in March.\n",
    "\n",
    "### Analysis of the data indicates that sales in the year 1996 initially exhibited a slight downward trend, but subsequently improved, culminating in an upward trend by year-end. Notably, the lowest sales figure for the year, amounting to $262.79, was recorded in February, while the highest figure of 421.60 was observed in October.\n",
    "\n",
    "### Examination of the data indicates that sales in the year 1995 began with a more pronounced downward trend compared to the preceding year. Notably, the highest sales figure for the year, amounting to 336.50, was recorded in November, while the lowest figure of $119.30 was observed in April."
   ]
  },
  {
   "cell_type": "code",
   "execution_count": null,
   "id": "32f5e92a-9d61-4064-a92a-55beec544173",
   "metadata": {},
   "outputs": [],
   "source": []
  }
 ],
 "metadata": {
  "kernelspec": {
   "display_name": "Python 3 (ipykernel)",
   "language": "python",
   "name": "python3"
  },
  "language_info": {
   "codemirror_mode": {
    "name": "ipython",
    "version": 3
   },
   "file_extension": ".py",
   "mimetype": "text/x-python",
   "name": "python",
   "nbconvert_exporter": "python",
   "pygments_lexer": "ipython3",
   "version": "3.9.13"
  }
 },
 "nbformat": 4,
 "nbformat_minor": 5
}
